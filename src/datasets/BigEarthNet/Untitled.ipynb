{
 "cells": [
  {
   "cell_type": "code",
   "execution_count": 122,
   "id": "11e8ba4e-3f36-4f87-804b-5abe14c6a9d5",
   "metadata": {},
   "outputs": [],
   "source": [
    "import os\n",
    "import argparse\n",
    "import time\n",
    "import torch\n",
    "from torchvision import transforms\n",
    "from cvtorchvision import cvtransforms\n",
    "import cv2\n",
    "import random\n",
    "from torchsat.transforms import transforms_cls\n",
    "from bigearthnet_dataset_seco_lmdb import LMDBDataset\n",
    "import numpy as np\n",
    "import matplotlib.pyplot as plt"
   ]
  },
  {
   "cell_type": "code",
   "execution_count": 5,
   "id": "54705675-d794-4543-a643-4b12e3f32c55",
   "metadata": {},
   "outputs": [],
   "source": [
    "data_dir = '/p/project/hai_dm4eo/wang_yi/data/BigEarthNet'"
   ]
  },
  {
   "cell_type": "code",
   "execution_count": 6,
   "id": "bc4a4971-8815-49ce-8d13-d7b2231d2121",
   "metadata": {},
   "outputs": [],
   "source": [
    "class GaussianBlur(object):\n",
    "#Gaussian blur augmentation in SimCLR https://arxiv.org/abs/2002.05709\n",
    "\n",
    "\n",
    "    def __init__(self, sigma=[.1, 2.]):\n",
    "        self.sigma = sigma\n",
    "\n",
    "    def __call__(self, x):\n",
    "        sigma = random.uniform(self.sigma[0], self.sigma[1])\n",
    "        #x = x.filter(ImageFilter.GaussianBlur(radius=sigma))\n",
    "\n",
    "        return cv2.GaussianBlur(x,(3,3),sigma)\n",
    "\n",
    "\n",
    "class RandomChannelDrop(object):\n",
    "    \"\"\" Random Channel Drop \"\"\"\n",
    "\n",
    "    def __init__(self, min_n_drop=1, max_n_drop=8):\n",
    "        self.min_n_drop = min_n_drop\n",
    "        self.max_n_drop = max_n_drop\n",
    "\n",
    "    def __call__(self, sample):\n",
    "        n_channels = random.randint(self.min_n_drop, self.max_n_drop)\n",
    "        channels = np.random.choice(range(sample.shape[0]), size=n_channels, replace=False)\n",
    "\n",
    "        for c in channels:\n",
    "            sample[c, :, :] = 0.        \n",
    "        return sample"
   ]
  },
  {
   "cell_type": "code",
   "execution_count": 157,
   "id": "211bba07-4b47-43db-b88a-c943b854de5a",
   "metadata": {},
   "outputs": [],
   "source": [
    "class RandomBrightness(object):\n",
    "    \"\"\" Random Brightness \"\"\"\n",
    "    \n",
    "    def __init__(self, brightness=0.4):\n",
    "        self.brightness = brightness\n",
    "\n",
    "    def __call__(self, sample):\n",
    "        s = np.random.uniform(max(0, 1 - self.brightness), 1 + self.brightness)\n",
    "        img = sample * s\n",
    "        \n",
    "        return img.astype(np.uint8)\n",
    "    \n",
    "class RandomContrast(object):\n",
    "    \"\"\" Random Contrast \"\"\"\n",
    "    \n",
    "    def __init__(self, contrast=0.4):\n",
    "        self.contrast = contrast\n",
    "\n",
    "    def __call__(self, sample):\n",
    "        s = np.random.uniform(max(0, 1 - self.contrast), 1 + self.contrast)\n",
    "        mean = np.mean(sample, axis=(0, 1))\n",
    "        \n",
    "        return ((sample - mean) * s + mean).astype(np.uint8)\n",
    "    \n",
    "class ToGray(object):\n",
    "    def __init__(self, out_channels):\n",
    "        self.out_channels = out_channels\n",
    "    def __call__(self,sample):\n",
    "        gray_img = np.mean(sample, axis=-1)\n",
    "        gray_img = np.tile(gray_img, (self.out_channels, 1, 1))\n",
    "        gray_img = np.transpose(gray_img, [1, 2, 0])\n",
    "        return gray_img.astype(np.uint8)\n"
   ]
  },
  {
   "cell_type": "code",
   "execution_count": 186,
   "id": "c7e0b11b-0ff6-4d45-930c-ed9951ee15ca",
   "metadata": {},
   "outputs": [],
   "source": [
    "augmentation = [\n",
    "    #cvtransforms.Resize((128, 128)),\n",
    "    cvtransforms.RandomResizedCrop(112, scale=(0.2, 1.)),\n",
    "    cvtransforms.RandomApply([\n",
    "        RandomBrightness(0.4),\n",
    "        RandomContrast(0.4)\n",
    "    ], p=0.8),\n",
    "    cvtransforms.RandomApply([ToGray(12)], p=0.8),\n",
    "    cvtransforms.RandomApply([GaussianBlur([.1, 2.])], p=0.5),\n",
    "    cvtransforms.RandomHorizontalFlip(),\n",
    "    cvtransforms.RandomApply([RandomChannelDrop(min_n_drop=1, max_n_drop=8)], p=0.5),\n",
    "    #cvtransforms.ToTensor(),\n",
    "    #normalize\n",
    "]"
   ]
  },
  {
   "cell_type": "code",
   "execution_count": 187,
   "id": "2801a295-88ab-43f1-a982-1813314dc3a5",
   "metadata": {},
   "outputs": [],
   "source": [
    "train_transforms = cvtransforms.Compose(augmentation)"
   ]
  },
  {
   "cell_type": "code",
   "execution_count": 188,
   "id": "a34fea99-1816-4d7d-84a0-1af6fd4add1c",
   "metadata": {},
   "outputs": [],
   "source": [
    "train_dataset = LMDBDataset(\n",
    "    lmdb_file=os.path.join(data_dir, 'train_B12.lmdb'),\n",
    "    transform=train_transforms\n",
    ")"
   ]
  },
  {
   "cell_type": "code",
   "execution_count": 189,
   "id": "89c2c808-a2aa-42e2-8496-bc62e7d9d836",
   "metadata": {},
   "outputs": [],
   "source": [
    "train_loader = torch.utils.data.DataLoader(train_dataset, batch_size=2, num_workers=0)"
   ]
  },
  {
   "cell_type": "code",
   "execution_count": 190,
   "id": "ab3d7dc7-5094-4f3a-958a-7d7a8723233a",
   "metadata": {},
   "outputs": [
    {
     "name": "stdout",
     "output_type": "stream",
     "text": [
      "0 torch.Size([2, 112, 112, 12]) tensor(235, dtype=torch.uint8) tensor(0, dtype=torch.uint8)\n",
      "1 torch.Size([2, 112, 112, 12]) tensor(203, dtype=torch.uint8) tensor(0, dtype=torch.uint8)\n"
     ]
    },
    {
     "data": {
      "image/png": "[encoded data removed]",
      "text/plain": [
       "<Figure size 432x288 with 1 Axes>"
      ]
     },
     "metadata": {
      "needs_background": "light"
     },
     "output_type": "display_data"
    }
   ],
   "source": [
    "for idx, (img,target) in enumerate(train_loader):\n",
    "    if idx>1:\n",
    "        break\n",
    "    print(idx, img.shape, img.max(), img.min())\n",
    "    plt.imshow(img[0,:,:,1:4])"
   ]
  },
  {
   "cell_type": "code",
   "execution_count": 70,
   "id": "532a1900-8020-4cc6-90a7-559bffd81767",
   "metadata": {},
   "outputs": [
    {
     "data": {
      "text/plain": [
       "torch.Size([2, 112, 112, 12])"
      ]
     },
     "execution_count": 70,
     "metadata": {},
     "output_type": "execute_result"
    }
   ],
   "source": [
    "img.shape"
   ]
  },
  {
   "cell_type": "code",
   "execution_count": 42,
   "id": "d527732d-3a14-4afc-acc6-789ed11e4323",
   "metadata": {},
   "outputs": [
    {
     "ename": "AssertionError",
     "evalue": "img should be CV Image",
     "output_type": "error",
     "traceback": [
      "\u001b[0;31m---------------------------------------------------------------------------\u001b[0m",
      "\u001b[0;31mAssertionError\u001b[0m                            Traceback (most recent call last)",
      "\u001b[0;32m/tmp/ipykernel_4744/524718585.py\u001b[0m in \u001b[0;36m<module>\u001b[0;34m\u001b[0m\n\u001b[0;32m----> 1\u001b[0;31m \u001b[0mi1\u001b[0m \u001b[0;34m=\u001b[0m \u001b[0mcvtransforms\u001b[0m\u001b[0;34m.\u001b[0m\u001b[0mRandomResizedCrop\u001b[0m\u001b[0;34m(\u001b[0m\u001b[0;36m112\u001b[0m\u001b[0;34m,\u001b[0m \u001b[0mscale\u001b[0m\u001b[0;34m=\u001b[0m\u001b[0;34m(\u001b[0m\u001b[0;36m0.2\u001b[0m\u001b[0;34m,\u001b[0m \u001b[0;36m1.\u001b[0m\u001b[0;34m)\u001b[0m\u001b[0;34m)\u001b[0m\u001b[0;34m(\u001b[0m\u001b[0mimg\u001b[0m\u001b[0;34m[\u001b[0m\u001b[0;36m0\u001b[0m\u001b[0;34m]\u001b[0m\u001b[0;34m)\u001b[0m\u001b[0;34m\u001b[0m\u001b[0;34m\u001b[0m\u001b[0m\n\u001b[0m",
      "\u001b[0;32m~/.local/lib/python3.8/site-packages/cvtorchvision/cvtransforms/cvtransforms.py\u001b[0m in \u001b[0;36m__call__\u001b[0;34m(self, img)\u001b[0m\n\u001b[1;32m    520\u001b[0m         \"\"\"\n\u001b[1;32m    521\u001b[0m         \u001b[0mi\u001b[0m\u001b[0;34m,\u001b[0m \u001b[0mj\u001b[0m\u001b[0;34m,\u001b[0m \u001b[0mh\u001b[0m\u001b[0;34m,\u001b[0m \u001b[0mw\u001b[0m \u001b[0;34m=\u001b[0m \u001b[0mself\u001b[0m\u001b[0;34m.\u001b[0m\u001b[0mget_params\u001b[0m\u001b[0;34m(\u001b[0m\u001b[0mimg\u001b[0m\u001b[0;34m,\u001b[0m \u001b[0mself\u001b[0m\u001b[0;34m.\u001b[0m\u001b[0mscale\u001b[0m\u001b[0;34m,\u001b[0m \u001b[0mself\u001b[0m\u001b[0;34m.\u001b[0m\u001b[0mratio\u001b[0m\u001b[0;34m)\u001b[0m\u001b[0;34m\u001b[0m\u001b[0;34m\u001b[0m\u001b[0m\n\u001b[0;32m--> 522\u001b[0;31m         \u001b[0;32mreturn\u001b[0m \u001b[0mF\u001b[0m\u001b[0;34m.\u001b[0m\u001b[0mresized_crop\u001b[0m\u001b[0;34m(\u001b[0m\u001b[0mimg\u001b[0m\u001b[0;34m,\u001b[0m \u001b[0mi\u001b[0m\u001b[0;34m,\u001b[0m \u001b[0mj\u001b[0m\u001b[0;34m,\u001b[0m \u001b[0mh\u001b[0m\u001b[0;34m,\u001b[0m \u001b[0mw\u001b[0m\u001b[0;34m,\u001b[0m \u001b[0mself\u001b[0m\u001b[0;34m.\u001b[0m\u001b[0msize\u001b[0m\u001b[0;34m,\u001b[0m \u001b[0mself\u001b[0m\u001b[0;34m.\u001b[0m\u001b[0minterpolation\u001b[0m\u001b[0;34m)\u001b[0m\u001b[0;34m\u001b[0m\u001b[0;34m\u001b[0m\u001b[0m\n\u001b[0m\u001b[1;32m    523\u001b[0m \u001b[0;34m\u001b[0m\u001b[0m\n\u001b[1;32m    524\u001b[0m     \u001b[0;32mdef\u001b[0m \u001b[0m__repr__\u001b[0m\u001b[0;34m(\u001b[0m\u001b[0mself\u001b[0m\u001b[0;34m)\u001b[0m\u001b[0;34m:\u001b[0m\u001b[0;34m\u001b[0m\u001b[0;34m\u001b[0m\u001b[0m\n",
      "\u001b[0;32m~/.local/lib/python3.8/site-packages/cvtorchvision/cvtransforms/cvfunctional.py\u001b[0m in \u001b[0;36mresized_crop\u001b[0;34m(img, i, j, h, w, size, interpolation)\u001b[0m\n\u001b[1;32m    282\u001b[0m         \u001b[0mnp\u001b[0m\u001b[0;34m.\u001b[0m\u001b[0mndarray\u001b[0m\u001b[0;34m:\u001b[0m \u001b[0mCropped\u001b[0m \u001b[0mimage\u001b[0m\u001b[0;34m.\u001b[0m\u001b[0;34m\u001b[0m\u001b[0;34m\u001b[0m\u001b[0m\n\u001b[1;32m    283\u001b[0m     \"\"\"\n\u001b[0;32m--> 284\u001b[0;31m     \u001b[0;32massert\u001b[0m \u001b[0m_is_numpy_image\u001b[0m\u001b[0;34m(\u001b[0m\u001b[0mimg\u001b[0m\u001b[0;34m)\u001b[0m\u001b[0;34m,\u001b[0m \u001b[0;34m'img should be CV Image'\u001b[0m\u001b[0;34m\u001b[0m\u001b[0;34m\u001b[0m\u001b[0m\n\u001b[0m\u001b[1;32m    285\u001b[0m     \u001b[0mimg\u001b[0m \u001b[0;34m=\u001b[0m \u001b[0mcrop\u001b[0m\u001b[0;34m(\u001b[0m\u001b[0mimg\u001b[0m\u001b[0;34m,\u001b[0m \u001b[0mi\u001b[0m\u001b[0;34m,\u001b[0m \u001b[0mj\u001b[0m\u001b[0;34m,\u001b[0m \u001b[0mh\u001b[0m\u001b[0;34m,\u001b[0m \u001b[0mw\u001b[0m\u001b[0;34m)\u001b[0m\u001b[0;34m\u001b[0m\u001b[0;34m\u001b[0m\u001b[0m\n\u001b[1;32m    286\u001b[0m     \u001b[0mimg\u001b[0m \u001b[0;34m=\u001b[0m \u001b[0mresize\u001b[0m\u001b[0;34m(\u001b[0m\u001b[0mimg\u001b[0m\u001b[0;34m,\u001b[0m \u001b[0msize\u001b[0m\u001b[0;34m,\u001b[0m \u001b[0minterpolation\u001b[0m\u001b[0;34m)\u001b[0m\u001b[0;34m\u001b[0m\u001b[0;34m\u001b[0m\u001b[0m\n",
      "\u001b[0;31mAssertionError\u001b[0m: img should be CV Image"
     ]
    }
   ],
   "source": [
    "i1 = cvtransforms.RandomResizedCrop(112, scale=(0.2, 1.))(img[0])\n"
   ]
  },
  {
   "cell_type": "code",
   "execution_count": null,
   "id": "17f5121a-e17d-423b-bb45-fe961ae75cfe",
   "metadata": {},
   "outputs": [],
   "source": []
  }
 ],
 "metadata": {
  "kernelspec": {
   "display_name": "wang36_kernel",
   "language": "python",
   "name": "wang36_kernel"
  },
  "language_info": {
   "codemirror_mode": {
    "name": "ipython",
    "version": 3
   },
   "file_extension": ".py",
   "mimetype": "text/x-python",
   "name": "python",
   "nbconvert_exporter": "python",
   "pygments_lexer": "ipython3",
   "version": "3.8.5"
  }
 },
 "nbformat": 4,
 "nbformat_minor": 5
}
